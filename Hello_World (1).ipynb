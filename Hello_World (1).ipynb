{
  "nbformat": 4,
  "nbformat_minor": 0,
  "metadata": {
    "colab": {
      "provenance": []
    },
    "kernelspec": {
      "name": "python3",
      "display_name": "Python 3"
    },
    "language_info": {
      "name": "python"
    }
  },
  "cells": [
    {
      "cell_type": "code",
      "source": [
        "# from time import sleep\n",
        "# from random import randrange as rand\n",
        "\n",
        "\n",
        "# def print_string(str, current_str=\"\", pos=0):\n",
        "#   '''\n",
        "#   This is an ultra effecient ground breaking method to implement the print function!\n",
        "#   It is so unique and special that NASA and the pentagon are behind my ass....\n",
        "#   '''\n",
        "#   if pos == len(str):\n",
        "#     return\n",
        "#   while True:\n",
        "#     rand_char = chr(rand(10, 128))\n",
        "#     if rand_char != '\\n':\n",
        "#       print('\\r'+current_str+rand_char, end='', flush=True)\n",
        "#     else:\n",
        "#       print('\\r'+current_str, end='', flush=True)\n",
        "#     sleep(0.1)\n",
        "#     if rand_char == str[pos]:\n",
        "#         break\n",
        "#   print_string(str, current_str+str[pos], pos+1)\n"
      ],
      "metadata": {
        "id": "8Bj04UuSsjj4"
      },
      "execution_count": 1,
      "outputs": []
    },
    {
      "cell_type": "code",
      "source": [
        "from time import sleep\n",
        "from random import randrange as rand\n",
        "\n",
        "\n",
        "def print_string1(str):\n",
        "  '''\n",
        "  This is an ultra effecient ground breaking method to implement the print function!\n",
        "  It is so unique and special that NASA and the pentagon are behind my ass....\n",
        "  '''\n",
        "  if len(str) == 0:\n",
        "    return\n",
        "  while True:\n",
        "    rand_char = chr(rand(32, 127))\n",
        "    if rand_char != '\\t' and rand_char != '\\b' and rand_char != '\\n':\n",
        "      print(rand_char, end=\"\")\n",
        "    sleep(0.1)\n",
        "    if rand_char == str[0]:\n",
        "      break\n",
        "    else:\n",
        "      print('\\b', end=\"\")\n",
        "  print_string1(str[1:])\n",
        "\n"
      ],
      "metadata": {
        "id": "LA8qtO6DccyH"
      },
      "execution_count": 13,
      "outputs": []
    },
    {
      "cell_type": "code",
      "source": [
        "print_string1(\"Hello World\")"
      ],
      "metadata": {
        "colab": {
          "base_uri": "https://localhost:8080/"
        },
        "id": "hoGJKF7HdUUM",
        "outputId": "2ebb0aa7-7541-41a4-acf4-1f91201a33ad"
      },
      "execution_count": 14,
      "outputs": [
        {
          "output_type": "stream",
          "name": "stdout",
          "text": [
            "X\bo\bI\bp\bv\bN\bHY\bD\bO\b-\bN\b'\bB\bC\ba\bY\bR\bt\bC\b|\bn\b$\b_\b|\bY\bc\b8\by\bM\bN\bm\bI\b5\bZ\bo\bE\b3\bZ\bf\bq\b%\b'\b)\bU\bS\ba\ba\b?\bo\bi\bk\bk\b-\bD\by\bM\bG\b^\bL\b>\bH\b[\b&\bh\bJ\bep\b%\bP\b7\bh\b7\b-\bq\bF\bO\bC\bx\b.\bO\bS\bT\bh\bB\bs\b[\bN\bs\bm\bh\bk\bj\bm\bX\b#\bK\b4\b[\b/\bM\bb\bc\bD\b)\b.\b<\by\bY\bS\b(\bL\b/\b+\b\"\b`\bT\b`\br\b&\bg\b>\b&\b\"\bk\bv\b7\bH\bW\b:\bA\b_\b0\b<\bI\bh\b*\b_\bp\b]\bY\bM\b[\b|\bm\bX\bY\blf\b0\bZ\b<\bC\bc\bk\bW\bV\bH\b,\by\b!\bZ\b~\b6\bE\bO\b3\b+\bU\b]\bD\b2\bo\bE\be\bv\bl7\bd\bA\bd\bv\br\bN\bA\by\b]\bS\b-\b:\b]\bg\bK\bk\bQ\b-\by\bx\b-\b=\b]\bN\by\b+\bC\b|\bL\bq\b_\bx\b5\bM\b&\bm\bV\b{\b.\b\"\bh\b3\bc\bu\bF\b2\bM\b4\bZ\bS\b8\bF\b>\bd\b[\b'\b,\bM\bb\bm\b]\bm\bg\bu\bu\bk\bZ\bM\bD\bP\b[\bR\b*\b2\by\bZ\b`\b&\b_\b$\bx\bx\b \b$\b[\bp\boC\bN\bD\b7\bJ\br\b1\b?\bV\bn\b=\b:\bo\bk\b4\b^\bJ\b}\bs\b[\bk\by\be\b5\b(\bs\bA\bd\b<\b`\b&\bn\b'\b]\b\\\b6\bI\b]\b7\b?\br\b#\b]\bf\bQ\bO\bW\b7\b/\b0\b5\bT\be\bV\bS\b=\b5\bV\b%\bs\b X\b_\bU\bs\b|\b[\bb\bY\bV\bD\b?\b{\bM\b/\bI\b{\b\"\bI\bj\bN\bI\bA\bn\b`\bu\bi\b^\bm\bO\b~\bR\bj\b&\b^\bd\bz\b;\b/\bR\bh\bB\b-\b;\b4\bU\bh\b(\bo\b/\b(\b|\bD\b.\b;\b#\bH\b%\b0\bz\bF\bB\b-\be\b!\b:\b(\bD\bz\b-\b9\bT\bV\bF\b^\bo\b.\bk\bA\b`\by\b<\b<\bF\bB\bk\bo\bK\bc\bQ\bk\b`\b\\\bv\b<\b<\b|\b}\b6\b/\b\\\bF\bQ\b`\bY\bWa\bK\b2\b%\b<\bs\bm\b>\b2\bX\bV\b8\bQ\bk\b-\b0\b.\bq\b>\bl\br\b`\bO\bw\bW\b2\b<\b.\bJ\bz\b4\b.\bI\b2\bF\bt\b*\boj\b!\b^\brM\bn\b=\b{\b%\bE\bJ\bO\bb\bI\bW\bj\b<\be\bs\bB\b7\bE\bX\bo\bk\b?\b>\bm\b1\b1\b+\bS\bO\by\bV\bJ\bV\bP\ba\bs\b~\bk\b7\bQ\b2\b8\by\bo\bw\b3\bT\bP\bM\bA\b&\b?\bF\b&\b2\bd\bd\b*\b \bT\b]\bN\b{\bB\by\b+\bH\b$\bl<\bd"
          ]
        }
      ]
    }
  ]
}