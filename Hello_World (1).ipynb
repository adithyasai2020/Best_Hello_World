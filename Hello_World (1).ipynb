{
  "nbformat": 4,
  "nbformat_minor": 0,
  "metadata": {
    "colab": {
      "provenance": []
    },
    "kernelspec": {
      "name": "python3",
      "display_name": "Python 3"
    },
    "language_info": {
      "name": "python"
    }
  },
  "cells": [
    {
      "cell_type": "code",
      "source": [
        "from time import sleep\n",
        "from random import randrange as rand\n",
        "\n",
        "\n",
        "def print_string(str, current_str=\"\", pos=0):\n",
        "  '''\n",
        "  This is an ultra effecient ground breaking method to implement the print function!\n",
        "  It is so unique and special that NASA and the pentagon are behind my ass....\n",
        "  '''\n",
        "  if pos == len(str):\n",
        "    return\n",
        "  while True:\n",
        "    rand_char = chr(rand(10, 128))\n",
        "    if rand_char != '\\n':\n",
        "      print('\\r'+current_str+rand_char, end='', flush=True)\n",
        "    else:\n",
        "      print('\\r'+current_str, end='', flush=True)\n",
        "    sleep(0.1)\n",
        "    if rand_char == str[pos]:\n",
        "        break\n",
        "  print_string(str, current_str+str[pos], pos+1)\n"
      ],
      "metadata": {
        "id": "8Bj04UuSsjj4"
      },
      "execution_count": 3,
      "outputs": []
    },
    {
      "cell_type": "code",
      "source": [
        "print_string(\"Hello World\")"
      ],
      "metadata": {
        "colab": {
          "base_uri": "https://localhost:8080/"
        },
        "id": "ZjHgn-fLxmEh",
        "outputId": "a2f0163e-8515-4b69-e755-05668ceee797"
      },
      "execution_count": 4,
      "outputs": [
        {
          "output_type": "stream",
          "name": "stdout",
          "text": [
            "Hello World"
          ]
        }
      ]
    }
  ]
}