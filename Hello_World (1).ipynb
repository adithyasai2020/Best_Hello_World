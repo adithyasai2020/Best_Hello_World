{
  "nbformat": 4,
  "nbformat_minor": 0,
  "metadata": {
    "colab": {
      "provenance": []
    },
    "kernelspec": {
      "name": "python3",
      "display_name": "Python 3"
    },
    "language_info": {
      "name": "python"
    }
  },
  "cells": [
    {
      "cell_type": "code",
      "source": [
        "from time import sleep\n",
        "from random import randrange as rand\n",
        "\n",
        "\n",
        "def print_string1(str):\n",
        "  '''\n",
        "  This is an ultra effecient ground breaking method to implement the print function!\n",
        "  It is so unique and special that NASA and the pentagon are behind my ass....\n",
        "  '''\n",
        "  if len(str) == 0:\n",
        "    return\n",
        "  while True:\n",
        "    rand_char = chr(rand(32, 127))\n",
        "    if rand_char != '\\t' and rand_char != '\\b' and rand_char != '\\n':\n",
        "      print(rand_char, end=\"\")\n",
        "    sleep(0.1)\n",
        "    if rand_char == str[0]:\n",
        "      break\n",
        "    else:\n",
        "      print('\\b', end=\"\")\n",
        "  print_string1(str[1:])\n",
        "\n"
      ],
      "metadata": {
        "id": "LA8qtO6DccyH"
      },
      "execution_count": 15,
      "outputs": []
    },
    {
      "cell_type": "code",
      "source": [
        "print_string1(\"Hello World\")"
      ],
      "metadata": {
        "colab": {
          "base_uri": "https://localhost:8080/"
        },
        "id": "hoGJKF7HdUUM",
        "outputId": "6214cd22-f531-480d-9ef3-8adae0c5841c"
      },
      "execution_count": 16,
      "outputs": [
        {
          "output_type": "stream",
          "name": "stdout",
          "text": [
            "\"\b$\bw\bp\bU\b[\bq\b9\bV\bz\b,\b\\\bA\b \bV\b6\bZ\b-\b{\b$\b'\b6\b\\\bD\bL\bo\b3\b<\bB\bC\b\"\bD\b9\b!\b;\bE\bd\bY\br\bT\b/\bm\bq\b{\bo\bY\bc\br\be\bt\bV\bh\bV\b_\b5\b&\bk\bJ\bI\bK\b]\bf\bM\bL\b>\b`\bN\bT\b:\b%\b~\b{\bc\bN\bH/\b2\b#\b!\bg\b#\b5\bY\bf\bi\by\bc\bO\b;\bg\bT\bD\bc\bP\bn\b:\b0\b~\br\bp\bl\be%\bd\bB\b?\b'\bS\bZ\bE\bG\b2\b3\bJ\b9\bh\b&\b6\bo\bd\b1\bV\bf\bL\bm\bf\bO\b<\b!\bM\bJ\bn\b~\b:\bk\by\bi\b,\bJ\bx\b>\b?\bF\bM\bc\bP\b$\b`\bK\bQ\bp\b0\b_\bR\b}\b5\bq\b<\b_\bQ\b4\b#\bO\bx\b+\bu\b3\bE\bO\bG\b?\bp\bg\bj\bd\b)\b'\bP\b%\b.\bx\b$\bw\b!\b+\b}\b[\be\b \b_\b*\b0\bL\b,\bh\bm\bk\bN\b*\b \b&\bc\bt\b&\b;\be\bT\bB\bG\bH\bH\bJ\b%\b:\bC\bF\bQ\bv\bB\b1\bk\bS\b.\b1\b~\bh\be\be\bF\bR\b$\bO\bJ\b\"\bh\bm\b'\b|\b8\bL\b^\b\"\b6\bs\b;\b+\b*\bf\bV\bx\b|\bx\bC\b,\b{\b<\b'\bO\b6\b.\bb\bi\bp\b9\bX\b8\b2\b|\bU\b=\bY\bI\b&\b%\bB\b3\bZ\bR\bq\b*\b!\b#\b*\b?\b+\bs\bM\b;\be\b<\b7\bU\bN\bR\bR\bI\b%\b#\b@\bv\bT\bD\b;\bt\bn\bT\b'\b\\\bO\b7\b~\bz\b|\b~\bu\b\"\bi\b-\b'\bu\bT\b$\bu\b8\b6\bv\b6\b|\bd\bn\b/\b]\bZ\bg\b%\b \bu\b8\br\b'\bR\bN\bF\bH\bm\b*\b`\bs\b \bv\bd\b=\bj\bn\b]\b\\\bli\bp\ba\b)\b.\b4\bB\bd\bz\bG\bL\bx\bS\b]\bK\b1\bC\bg\blr\bX\bg\bP\bh\bB\b{\bx\bg\bJ\bz\bZ\bp\b)\b;\b!\b4\b}\bx\bT\bc\bU\bE\b%\bb\bY\b?\bP\bR\bF\bC\bB\bw\bI\b=\bY\bA\bg\bW\b(\b'\bK\by\bG\bT\b4\b>\b=\b#\be\b`\b1\bN\bj\b8\b~\bW\bb\b.\b}\b!\bB\bu\bT\be\b&\b@\be\b)\b|\b-\bY\b=\b1\bs\bW\bH\bs\b}\bZ\b@\bK\bA\b3\bx\b(\b~\b<\b|\b,\b$\bz\bD\b,\bd\b(\b4\bz\bJ\b'\bi\b=\bA\b5\bZ\b|\by\bq\b4\by\b[\bY\br\bR\b5\bM\bv\b$\bx\b?\b:\br\bM\b]\bV\bu\bw\bO\bV\b&\b(\b1\bU\bs\bI\b*\br\br\b3\bJ\b<\bz\b[\b+\bH\b:\bU\bv\bZ\bM\b[\bn\bl\bX\bX\b&\ba\b \b^\bU\b5\bn\bZ\b7\bk\bR\b#\bM\b-\bU\bb\bd\bB\b+\bs\b;\b?\b~\b%\b_\bC\b[\b?\bE\b@\b$\b%\b%\b^\by\b4\bc\bW\b9\bR\bI\b`\bI\bT\b4\bom\b<\b5\b.\bx\bU\b-\bi\bm\bU\bf\b[\b)\bA\b 3\bR\bY\b!\bG\bK\bg\bq\bM\bX\b}\b|\bx\b\"\b(\bo\b \b\"\b+\bn\bP\b|\b#\b@\bZ\bN\bE\bk\b8\b\\\b\\\b^\b9\b$\bk\b<\b]\b;\b.\b<\b8\bd\b!\b(\b$\b<\bg\bg\b*\b#\bq\bC\b$\bD\b1\b8\bc\b>\bl\bV\bE\b0\b5\b>\bY\b~\bJ\b3\bp\b)\bv\b+\bR\b \bK\bd\b<\bV\b \bs\bo\bM\b8\bp\b \bd\b@\bC\bZ\bc\bj\b8\b~\b#\bl\bw\by\b%\b\"\b7\be\bf\bj\b\\\b\"\bX\bH\bp\b_\b]\bb\bt\b@\bd\b}\b+\bY\bG\b}\bs\bg\b0\bI\bt\b*\b#\b*\b@\b=\bx\b|\bo\be\bt\bv\bWod\b?\b7\bd\bM\b~\bJ\b]\b1\b`\b(\b{\bP\bl\bD\bN\b?\b2\ba\b[\bj\bg\b^\b3\b+\b=\b~\by\b%\b@\b-\b9\b]\bp\bT\bh\b9\b,\b$\bD\b/\b7\b7\ba\bM\bG\bM\b3\bu\b4\bm\bk\b8\b\\\b<\bO\bT\bt\by\b[\b,\bf\bT\bZ\bC\bP\bO\bp\b,\bf\bH\b?\b4\b'\bo\b%\b=\bE\by\bT\b@\b~\bR\b@\b-\bi\bV\bT\bo\b\\\b \b]\bN\b(\b2\b8\b|\b&\b|\bx\bn\b`\b{\b/\b<\bS\b~\bJ\bX\bM\bL\bj\bE\bL\bc\bH\bE\bm\bh\b3\b2\by\bL\b&\b,\b`\bl\b~\bM\bQ\bM\bU\bx\b*\b:\bE\b>\bw\b>\bi\b>\b*\bT\b^\bG\b1\b-\b{\bO\bx\bI\b1\b}\b\\\b!\bH\b#\bI\b3\bo\b \b|\bry\b4\bB\bG\b~\bt\by\b8\bB\b7\b2\bR\bY\bc\bJ\b5\bW\b]\b#\bC\bY\bv\bf\bC\bD\by\bI\b!\b=\bH\bp\bS\bs\bS\by\b1\b]\bP\bK\b#\b@\b-\b(\bx\bt\bU\b#\bh\b>\bE\bX\b-\bM\b\"\bi\b&\b:\bV\b{\b8\b?\b?\bX\bR\bx\b2\b\\\b-\bR\b>\b/\bz\bz\bR\by\b*\bR\b3\bT\bx\bY\b,\b'\b}\bF\b*\bn\b1\be\b!\be\b1\b(\b\"\b#\bi\blM\bu\b@\b>\bV\bY\b0\bR\bQ\b7\b?\b.\ba\b^\b6\b?\bs\b,\bf\bn\bm\by\bJ\b~\ba\b+\bv\b\\\bL\be\bm\b7\bI\bt\bB\bG\b4\b`\bR\bt\b1\bl\b!\bn\ba\b$\b;\bE\bO\b\"\b4\bg\bo\bm\bU\b/\b-\bz\bt\bb\bu\bL\bz\b4\bv\be\bF\b]\bh\b{\bp\bB\b(\b3\b`\bB\b7\b(\bj\bJ\b-\b;\bo\b%\bz\be\b:\br\bW\bS\b;\bq\bL\b~\bA\b1\b,\b`\bo\b[\b?\bo\b=\bc\bu\b?\b*\b}\b!\be\bU\bX\b|\bl\bQ\bU\bT\bT\b]\br\bU\b}\b.\b}\b{\b4\bW\bM\bc\b{\ba\b3\b*\bL\bS\bv\b\"\bT\bc\b*\bg\bd"
          ]
        }
      ]
    }
  ]
}